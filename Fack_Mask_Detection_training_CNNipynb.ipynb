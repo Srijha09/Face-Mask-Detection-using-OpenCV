{
  "nbformat": 4,
  "nbformat_minor": 0,
  "metadata": {
    "colab": {
      "name": "Fack Mask Detection- training CNNipynb",
      "provenance": []
    },
    "kernelspec": {
      "name": "python3",
      "display_name": "Python 3"
    }
  },
  "cells": [
    {
      "cell_type": "code",
      "metadata": {
        "id": "U78iBtLFox7Z",
        "colab_type": "code",
        "colab": {
          "base_uri": "https://localhost:8080/",
          "height": 33
        },
        "outputId": "ca51c74a-f213-47fc-9a65-ecc439bcfe9b"
      },
      "source": [
        "from google.colab import drive\n",
        "drive.mount('/content/drive')"
      ],
      "execution_count": 15,
      "outputs": [
        {
          "output_type": "stream",
          "text": [
            "Drive already mounted at /content/drive; to attempt to forcibly remount, call drive.mount(\"/content/drive\", force_remount=True).\n"
          ],
          "name": "stdout"
        }
      ]
    },
    {
      "cell_type": "code",
      "metadata": {
        "id": "TMGnmjaMvV8O",
        "colab_type": "code",
        "colab": {}
      },
      "source": [
        "import numpy as np\n",
        "\n",
        "data=np.load('/content/drive/My Drive/FaceMask Detect/data.npy')\n",
        "target=np.load('/content/drive/My Drive/FaceMask Detect/target.npy')\n",
        "\n",
        "#loading the save numpy arrays in the previous code"
      ],
      "execution_count": 16,
      "outputs": []
    },
    {
      "cell_type": "code",
      "metadata": {
        "id": "3iCrD6OYvjXF",
        "colab_type": "code",
        "colab": {}
      },
      "source": [
        "from keras.models import Sequential\n",
        "from keras.layers import Dense,Activation,Flatten,Dropout\n",
        "from keras.layers import Conv2D,MaxPooling2D\n",
        "from keras.callbacks import ModelCheckpoint\n",
        "\n",
        "model=Sequential()\n",
        "\n",
        "model.add(Conv2D(100,(3,3),input_shape=data.shape[1:]))\n",
        "model.add(Activation('relu'))\n",
        "model.add(MaxPooling2D(pool_size=(2,2)))\n",
        "#The first CNN layer followed by Relu and MaxPooling layers\n",
        "\n",
        "model.add(Conv2D(100,(3,3)))\n",
        "model.add(Activation('relu'))\n",
        "model.add(MaxPooling2D(pool_size=(2,2)))\n",
        "#The second convolution layer followed by Relu and MaxPooling layers\n",
        "\n",
        "model.add(Flatten())\n",
        "model.add(Dropout(0.5))\n",
        "#Flatten layer to stack the output convolutions from second convolution layer\n",
        "model.add(Dense(50,activation='relu'))\n",
        "#Dense layer of 64 neurons\n",
        "model.add(Dense(2,activation='softmax'))\n",
        "#The Final layer with two outputs for two categories\n",
        "\n",
        "model.compile(loss='binary_crossentropy',optimizer='adam',metrics=['accuracy'])"
      ],
      "execution_count": 17,
      "outputs": []
    },
    {
      "cell_type": "code",
      "metadata": {
        "id": "Kr-5-W3PV2yl",
        "colab_type": "code",
        "colab": {}
      },
      "source": [
        "from sklearn.model_selection import train_test_split\n",
        "\n",
        "train_data,test_data,train_target,test_target=train_test_split(data,target,test_size=0.2)"
      ],
      "execution_count": 18,
      "outputs": []
    },
    {
      "cell_type": "code",
      "metadata": {
        "id": "7oaa9t7MV64r",
        "colab_type": "code",
        "colab": {
          "base_uri": "https://localhost:8080/",
          "height": 705
        },
        "outputId": "438c5b35-d72f-4721-86d1-5e9c324f49ba"
      },
      "source": [
        "checkpoint = ModelCheckpoint('model-{epoch:03d}.model',monitor='val_loss',verbose=0,save_best_only=True,mode='auto')\n",
        "history=model.fit(train_data,train_target,epochs=20,callbacks=[checkpoint],validation_split=0.2)"
      ],
      "execution_count": 19,
      "outputs": [
        {
          "output_type": "stream",
          "text": [
            "Train on 1009 samples, validate on 253 samples\n",
            "Epoch 1/20\n",
            "1009/1009 [==============================] - 42s 41ms/step - loss: 0.7723 - accuracy: 0.5233 - val_loss: 0.6923 - val_accuracy: 0.5178\n",
            "Epoch 2/20\n",
            "1009/1009 [==============================] - 42s 41ms/step - loss: 0.6620 - accuracy: 0.5669 - val_loss: 0.5886 - val_accuracy: 0.6798\n",
            "Epoch 3/20\n",
            "1009/1009 [==============================] - 42s 41ms/step - loss: 0.5522 - accuracy: 0.7136 - val_loss: 0.4692 - val_accuracy: 0.7945\n",
            "Epoch 4/20\n",
            "1009/1009 [==============================] - 42s 42ms/step - loss: 0.4193 - accuracy: 0.8176 - val_loss: 0.3899 - val_accuracy: 0.7984\n",
            "Epoch 5/20\n",
            "1009/1009 [==============================] - 42s 42ms/step - loss: 0.3522 - accuracy: 0.8454 - val_loss: 0.3070 - val_accuracy: 0.8972\n",
            "Epoch 6/20\n",
            "1009/1009 [==============================] - 42s 42ms/step - loss: 0.2844 - accuracy: 0.8870 - val_loss: 0.3565 - val_accuracy: 0.8498\n",
            "Epoch 7/20\n",
            "1009/1009 [==============================] - 46s 45ms/step - loss: 0.2464 - accuracy: 0.8860 - val_loss: 0.2668 - val_accuracy: 0.8893\n",
            "Epoch 8/20\n",
            "1009/1009 [==============================] - 46s 45ms/step - loss: 0.1961 - accuracy: 0.9267 - val_loss: 0.3062 - val_accuracy: 0.8735\n",
            "Epoch 9/20\n",
            "1009/1009 [==============================] - 46s 45ms/step - loss: 0.1650 - accuracy: 0.9366 - val_loss: 0.3160 - val_accuracy: 0.8933\n",
            "Epoch 10/20\n",
            "1009/1009 [==============================] - 47s 46ms/step - loss: 0.1360 - accuracy: 0.9495 - val_loss: 0.3214 - val_accuracy: 0.9012\n",
            "Epoch 11/20\n",
            "1009/1009 [==============================] - 47s 46ms/step - loss: 0.1281 - accuracy: 0.9514 - val_loss: 0.2668 - val_accuracy: 0.9051\n",
            "Epoch 12/20\n",
            "1009/1009 [==============================] - 47s 46ms/step - loss: 0.0993 - accuracy: 0.9564 - val_loss: 0.3594 - val_accuracy: 0.9051\n",
            "Epoch 13/20\n",
            "1009/1009 [==============================] - 51s 50ms/step - loss: 0.0842 - accuracy: 0.9703 - val_loss: 0.2798 - val_accuracy: 0.9170\n",
            "Epoch 14/20\n",
            "1009/1009 [==============================] - 47s 47ms/step - loss: 0.0651 - accuracy: 0.9782 - val_loss: 0.3798 - val_accuracy: 0.9012\n",
            "Epoch 15/20\n",
            "1009/1009 [==============================] - 47s 47ms/step - loss: 0.0633 - accuracy: 0.9782 - val_loss: 0.3220 - val_accuracy: 0.8972\n",
            "Epoch 16/20\n",
            "1009/1009 [==============================] - 47s 46ms/step - loss: 0.0522 - accuracy: 0.9822 - val_loss: 0.4221 - val_accuracy: 0.8893\n",
            "Epoch 17/20\n",
            "1009/1009 [==============================] - 47s 46ms/step - loss: 0.0805 - accuracy: 0.9673 - val_loss: 0.3634 - val_accuracy: 0.9012\n",
            "Epoch 18/20\n",
            "1009/1009 [==============================] - 47s 47ms/step - loss: 0.0487 - accuracy: 0.9841 - val_loss: 0.3985 - val_accuracy: 0.9209\n",
            "Epoch 19/20\n",
            "1009/1009 [==============================] - 47s 46ms/step - loss: 0.0408 - accuracy: 0.9851 - val_loss: 0.4787 - val_accuracy: 0.9130\n",
            "Epoch 20/20\n",
            "1009/1009 [==============================] - 47s 46ms/step - loss: 0.0286 - accuracy: 0.9911 - val_loss: 0.3926 - val_accuracy: 0.9051\n"
          ],
          "name": "stdout"
        }
      ]
    },
    {
      "cell_type": "code",
      "metadata": {
        "id": "i1XpoFdNbXyg",
        "colab_type": "code",
        "colab": {}
      },
      "source": [
        "model.save(\"/content/drive/My Drive/FaceMask Detect/model.h5\")"
      ],
      "execution_count": 20,
      "outputs": []
    },
    {
      "cell_type": "code",
      "metadata": {
        "id": "bgeZ-u9JV9yV",
        "colab_type": "code",
        "colab": {
          "base_uri": "https://localhost:8080/",
          "height": 280
        },
        "outputId": "8c4ce271-3834-46ba-a730-6029659110c7"
      },
      "source": [
        "from matplotlib import pyplot as plt\n",
        "\n",
        "plt.plot(history.history['loss'],'r',label='training loss')\n",
        "plt.plot(history.history['val_loss'],label='validation loss')\n",
        "plt.xlabel('# epochs')\n",
        "plt.ylabel('loss')\n",
        "plt.legend()\n",
        "plt.show()"
      ],
      "execution_count": 21,
      "outputs": [
        {
          "output_type": "display_data",
          "data": {
            "image/png": "[encoded data removed]",
            "text/plain": [
              "<Figure size 432x288 with 1 Axes>"
            ]
          },
          "metadata": {
            "tags": [],
            "needs_background": "light"
          }
        }
      ]
    },
    {
      "cell_type": "code",
      "metadata": {
        "id": "1kcjdm_oZlyP",
        "colab_type": "code",
        "colab": {
          "base_uri": "https://localhost:8080/",
          "height": 278
        },
        "outputId": "4be39f29-a29b-432a-a5b4-9bb26391a28b"
      },
      "source": [
        "plt.plot(history.history['accuracy'],'r',label='training accuracy')\n",
        "plt.plot(history.history['val_accuracy'],label='validation accuracy')\n",
        "plt.xlabel('# epochs')\n",
        "plt.ylabel('loss')\n",
        "plt.legend()\n",
        "plt.show()"
      ],
      "execution_count": 22,
      "outputs": [
        {
          "output_type": "display_data",
          "data": {
            "image/png": "[encoded data removed]",
            "text/plain": [
              "<Figure size 432x288 with 1 Axes>"
            ]
          },
          "metadata": {
            "tags": [],
            "needs_background": "light"
          }
        }
      ]
    },
    {
      "cell_type": "code",
      "metadata": {
        "id": "UdMg2xxPZsFB",
        "colab_type": "code",
        "colab": {
          "base_uri": "https://localhost:8080/",
          "height": 50
        },
        "outputId": "c9bf367e-2365-4e43-b578-3efce10f1379"
      },
      "source": [
        "print(model.evaluate(test_data,test_target))"
      ],
      "execution_count": 23,
      "outputs": [
        {
          "output_type": "stream",
          "text": [
            "316/316 [==============================] - 4s 12ms/step\n",
            "[0.5106034316594088, 0.8702531456947327]\n"
          ],
          "name": "stdout"
        }
      ]
    },
    {
      "cell_type": "code",
      "metadata": {
        "id": "v5i8fMF5ZxIg",
        "colab_type": "code",
        "colab": {}
      },
      "source": [
        ""
      ],
      "execution_count": null,
      "outputs": []
    }
  ]
}