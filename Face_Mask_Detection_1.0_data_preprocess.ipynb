{
  "nbformat": 4,
  "nbformat_minor": 0,
  "metadata": {
    "colab": {
      "name": "Face Mask Detection_data preprocess.ipynb",
      "provenance": []
    },
    "kernelspec": {
      "name": "python3",
      "display_name": "Python 3"
    }
  },
  "cells": [
    {
      "cell_type": "code",
      "metadata": {
        "id": "OGukCLj2l3iW",
        "colab_type": "code",
        "colab": {
          "base_uri": "https://localhost:8080/",
          "height": 33
        },
        "outputId": "ac8b4c7f-7724-41dd-b4ce-fcfd77df1a64"
      },
      "source": [
        "from google.colab import drive\n",
        "drive.mount('/content/drive')"
      ],
      "execution_count": 6,
      "outputs": [
        {
          "output_type": "stream",
          "text": [
            "Drive already mounted at /content/drive; to attempt to forcibly remount, call drive.mount(\"/content/drive\", force_remount=True).\n"
          ],
          "name": "stdout"
        }
      ]
    },
    {
      "cell_type": "code",
      "metadata": {
        "id": "mBjLmpUDl8T2",
        "colab_type": "code",
        "colab": {
          "base_uri": "https://localhost:8080/",
          "height": 67
        },
        "outputId": "e1037faa-33e1-48db-d5a8-a32d36afa5c9"
      },
      "source": [
        "import cv2,os\n",
        "\n",
        "data_path='/content/drive/My Drive/FaceMask Dataset'\n",
        "categories=os.listdir(data_path)\n",
        "labels=[i for i in range(len(categories))]\n",
        "\n",
        "label_dict=dict(zip(categories,labels))\n",
        "\n",
        "print(label_dict)\n",
        "print(categories)\n",
        "print(labels)"
      ],
      "execution_count": null,
      "outputs": [
        {
          "output_type": "stream",
          "text": [
            "{'with_mask': 0, 'without_mask': 1}\n",
            "['with_mask', 'without_mask']\n",
            "[0, 1]\n"
          ],
          "name": "stdout"
        }
      ]
    },
    {
      "cell_type": "code",
      "metadata": {
        "id": "37caS8nwoMY9",
        "colab_type": "code",
        "colab": {}
      },
      "source": [
        "img_size=100\n",
        "data=[]\n",
        "target=[]\n",
        "\n",
        "\n",
        "for category in categories:\n",
        "    folder_path=os.path.join(data_path,category)\n",
        "    img_names=os.listdir(folder_path)\n",
        "        \n",
        "    for img_name in img_names:\n",
        "        img_path=os.path.join(folder_path,img_name)\n",
        "        img=cv2.imread(img_path)\n",
        "\n",
        "        try:\n",
        "            gray=cv2.cvtColor(img,cv2.COLOR_BGR2GRAY)           \n",
        "            #Coverting the image into gray scale\n",
        "            resized=cv2.resize(gray,(img_size,img_size))\n",
        "            #resizing the gray scale into 100x100, since we need a fixed common size for all the images in the dataset\n",
        "            data.append(resized)\n",
        "            target.append(label_dict[category])\n",
        "            #appending the image and the label(categorized) into the list (dataset)\n",
        "\n",
        "        except Exception as e:\n",
        "            print('Exception:',e)\n",
        "            #if any exception rasied, the exception will be printed here. And pass to the next image"
      ],
      "execution_count": null,
      "outputs": []
    },
    {
      "cell_type": "code",
      "metadata": {
        "id": "CJNB7rm3p0RE",
        "colab_type": "code",
        "colab": {
          "base_uri": "https://localhost:8080/",
          "height": 33
        },
        "outputId": "1794671b-e94a-470b-9d69-981887b27b2b"
      },
      "source": [
        "import numpy as np\n",
        "\n",
        "data=np.array(data)/255.0\n",
        "data=np.reshape(data,(data.shape[0],img_size,img_size,1))\n",
        "target=np.array(target)\n",
        "\n",
        "from keras.utils import np_utils\n",
        "\n",
        "new_target=np_utils.to_categorical(target)"
      ],
      "execution_count": null,
      "outputs": [
        {
          "output_type": "stream",
          "text": [
            "Using TensorFlow backend.\n"
          ],
          "name": "stderr"
        }
      ]
    },
    {
      "cell_type": "code",
      "metadata": {
        "id": "tNHgPy5DvCON",
        "colab_type": "code",
        "colab": {}
      },
      "source": [
        "np.save('/content/drive/My Drive/FaceMask Detect/data',data)\n",
        "np.save('/content/drive/My Drive/FaceMask Detect/target',new_target)"
      ],
      "execution_count": null,
      "outputs": []
    },
    {
      "cell_type": "code",
      "metadata": {
        "id": "hcmygF-OvGfR",
        "colab_type": "code",
        "colab": {}
      },
      "source": [
        ""
      ],
      "execution_count": null,
      "outputs": []
    }
  ]
}